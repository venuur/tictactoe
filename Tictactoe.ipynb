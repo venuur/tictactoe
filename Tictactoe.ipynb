{
 "cells": [
  {
   "cell_type": "code",
   "execution_count": 64,
   "metadata": {
    "collapsed": true
   },
   "outputs": [],
   "source": [
    "import matplotlib.pyplot as plt\n",
    "%matplotlib inline\n",
    "\n",
    "from itertools import cycle\n",
    "\n",
    "import numpy as np\n",
    "import numpy.random as rn\n",
    "\n",
    "\n",
    "DEBUG = 2\n",
    "def debug(level, *args):\n",
    "    if DEBUG > level:\n",
    "        print(*args)"
   ]
  },
  {
   "cell_type": "code",
   "execution_count": 75,
   "metadata": {
    "collapsed": false
   },
   "outputs": [],
   "source": [
    "def win_tictactoe(board):\n",
    "    '''Return 0 for no win, otherwise i if player i wins for board vector row major ordering.'''\n",
    "    debug(10, 'board [{}]'.format(board))\n",
    "    for player in [1, 2]:\n",
    "        #Player win by rows.\n",
    "        player_win = np.any(np.all(\n",
    "            board.reshape(3, 3) == player,\n",
    "            axis=1))\n",
    "        debug(10, 'board 3 by 3 [{}]'.format(board.reshape(3, 3)))\n",
    "        debug(10, 'player [{}] win by row [{}]'.format(player, player_win))\n",
    "        \n",
    "        #Player win by columns.\n",
    "        player_win = player_win or np.any(np.all(\n",
    "            board.reshape(3, 3) == player,\n",
    "            axis=0))\n",
    "        debug(10, 'board 3 by 3 [{}]'.format(board.reshape(3, 3)))\n",
    "        debug(10, 'player [{}] win by columns [{}]'.format(player, player_win))\n",
    "        \n",
    "        #Player win by diagonals.\n",
    "        player_win = player_win or np.any(np.all(np.array([\n",
    "            board.reshape(3, 3)[[0,1,2],[0,1,2]].reshape(-1) == player,\n",
    "            board.reshape(3, 3)[[0,1,2],[2,1,0]].reshape(-1) == player]),\n",
    "            axis=1))\n",
    "        \n",
    "        debug(10, 'board 3 by 3 [{}]'.format(board.reshape(3, 3)))\n",
    "        debug(10, 'player [{}] win by diagonal [{}]'.format(player, player_win))\n",
    "        \n",
    "        debug(10, 'diag board slices [{}]'.format(np.array([\n",
    "            board.reshape(3, 3)[[0,1,2],[0,1,2]].reshape(-1),\n",
    "            board.reshape(3, 3)[[0,1,2],[2,1,0]].reshape(-1)])))\n",
    "        debug(10, 'diag board player [{}] slices [{}]'.format(player, np.array([\n",
    "            board.reshape(3, 3)[[0,1,2],[0,1,2]].reshape(-1) == player,\n",
    "            board.reshape(3, 3)[[0,1,2],[2,1,0]].reshape(-1) == player])))\n",
    "        \n",
    "        \n",
    "        if player_win:\n",
    "            return player\n",
    "        \n",
    "    return 0\n",
    "\n",
    "def tie_tictactoe(board):\n",
    "    '''Return true if board is a tie.'''\n",
    "    \n",
    "    return np.all(board != 0)\n",
    "\n",
    "def valid_moves(board):\n",
    "    return np.where(board == 0)[0]\n",
    "\n",
    "\n",
    "class RandomPlayer:\n",
    "    def __init__(self, player):\n",
    "        self.player = player\n",
    "        \n",
    "    def action(self, board):\n",
    "        action = rn.choice(valid_moves(board))\n",
    "        return (self.player, action)\n",
    "    \n",
    "class OneStepLookaheadPlayer:\n",
    "    def __init__(self, player):\n",
    "        self.player = player\n",
    "        self._random = RandomPlayer(self.player)\n",
    "        \n",
    "    def action(self, board):\n",
    "        valid = valid_moves(board)\n",
    "        \n",
    "        # Look for winning moves.\n",
    "        for a in valid:\n",
    "            next_board = board.copy()\n",
    "            next_board[a] = self.player\n",
    "            if win_tictactoe(next_board) == self.player:\n",
    "                return (self.player, a)\n",
    "            \n",
    "        # Look for blocking moves.\n",
    "        other_player = {1:2, 2:1}[self.player]\n",
    "        for a in valid:\n",
    "            next_board = board.copy()\n",
    "            next_board[a] = other_player(self.player)\n",
    "            if win_tictactoe(next_board) == other_player(self.player):\n",
    "                return (self.player, a)\n",
    "            \n",
    "        return self._random.action(board)\n",
    "            \n",
    "class Tictactoe:\n",
    "    def __init__(self, player1, player2):\n",
    "        self.board = np.zeros(9)\n",
    "        self.players = [player1, player2]\n",
    "        self.action_log = list()\n",
    "        self.result = 'playing'\n",
    "        \n",
    "    def play(self):\n",
    "        for player in cycle(self.players):\n",
    "            action = player.action(self.board)\n",
    "            self.update(*action)\n",
    "            self.action_log.append(action)\n",
    "            \n",
    "            if win_tictactoe(self.board) != 0:\n",
    "                self.result = 'winner_player_{}'.format(player.player)\n",
    "            elif tie_tictactoe(self.board):\n",
    "                self.result = 'tie'\n",
    "            \n",
    "            debug(1, self)\n",
    "            \n",
    "            if self.result != 'playing':\n",
    "                break\n",
    "        \n",
    "    def update(self, player, location):\n",
    "        self.board[location] = player\n",
    "        \n",
    "        \n",
    "    def __repr__(self):\n",
    "        return '\\n'.join([\n",
    "                '->'.join(map(str, self.action_log)),\n",
    "                str(self.board.reshape(3,3)),\n",
    "                self.result\n",
    "            ])"
   ]
  },
  {
   "cell_type": "code",
   "execution_count": 81,
   "metadata": {
    "collapsed": true
   },
   "outputs": [],
   "source": [
    "OTHER_PLAYER = {1:2, 2:1}\n",
    "def other_player(player):\n",
    "    return OTHER_PLAYER[player]\n",
    "\n",
    "def game_stats(games):\n",
    "    stats = dict()\n",
    "    for player in [1,2]:\n",
    "        stats[player] = dict(\n",
    "            wins=0,\n",
    "            losses=0,\n",
    "            ties=0)\n",
    "        for g in games:\n",
    "            if g.result == 'winner_player_{}'.format(player):\n",
    "                stats[player]['wins'] += 1\n",
    "            elif g.result == 'winner_player_{}'.format(other_player(player)):\n",
    "                stats[player]['losses'] += 1\n",
    "            else:\n",
    "                stats[player]['ties'] += 1\n",
    "                \n",
    "    return stats"
   ]
  },
  {
   "cell_type": "code",
   "execution_count": 99,
   "metadata": {
    "collapsed": true
   },
   "outputs": [],
   "source": [
    "def state_list_player_1():\n",
    "    player = 1\n",
    "    other = other_player(player)\n",
    "    states = list()\n",
    "    empty_board = np.zeros(9)\n",
    "    boards_remaining = [empty_board]\n",
    "    while boards_remaining:\n",
    "        board = boards_remaining.pop()\n",
    "        debug(20, 'board [{}]'.format(board))\n",
    "        states.append(board.copy())\n",
    "        moves = valid_moves(board)\n",
    "        debug(20, 'moves [{}]'.format(moves))\n",
    "\n",
    "        if moves.shape[0] == 0:\n",
    "            continue\n",
    "            \n",
    "        for move in moves:\n",
    "            next_board = board.copy()\n",
    "            next_board[move] = player\n",
    "            debug(20, 'next_board [{}]'.format(next_board))\n",
    "            if is_terminal(next_board):\n",
    "                states.append(next_board.copy())\n",
    "                continue\n",
    "            \n",
    "            other_moves = valid_moves(next_board)\n",
    "            debug(20, 'other_moves [{}]'.format(other_moves))\n",
    "            for other_move in other_moves:\n",
    "                next_next_board = next_board.copy()\n",
    "                next_next_board[other_move] = other\n",
    "                debug(20, 'next_next_board [{}]'.format(next_next_board))\n",
    "                if is_terminal(next_next_board):\n",
    "                    states.append(next_next_board.copy())\n",
    "                    continue\n",
    "                    \n",
    "                boards_remaining.append(next_next_board)\n",
    "        debug(20, 'boards_remaining [{}]'.format(boards_remaining))\n",
    "            \n",
    "def is_terminal(board):\n",
    "    return win_tictactoe(board) > 0 or tie_tictactoe(board)"
   ]
  },
  {
   "cell_type": "code",
   "execution_count": 98,
   "metadata": {
    "collapsed": false
   },
   "outputs": [
    {
     "name": "stdout",
     "output_type": "stream",
     "text": [
      "board [[ 0.  0.  0.  0.  0.  0.  0.  0.  0.]]\n",
      "moves [[0 1 2 3 4 5 6 7 8]]\n",
      "next_board [[ 1.  0.  0.  0.  0.  0.  0.  0.  0.]]\n",
      "board [[ 1.  0.  0.  0.  0.  0.  0.  0.  0.]]\n",
      "board 3 by 3 [[[ 1.  0.  0.]\n",
      " [ 0.  0.  0.]\n",
      " [ 0.  0.  0.]]]\n",
      "player [1] win by row [False]\n",
      "board 3 by 3 [[[ 1.  0.  0.]\n",
      " [ 0.  0.  0.]\n",
      " [ 0.  0.  0.]]]\n",
      "player [1] win by columns [False]\n",
      "board 3 by 3 [[[ 1.  0.  0.]\n",
      " [ 0.  0.  0.]\n",
      " [ 0.  0.  0.]]]\n",
      "player [1] win by diagonal [False]\n",
      "diag board slices [[[ 1.  0.  0.]\n",
      " [ 0.  0.  0.]]]\n",
      "diag board player [1] slices [[[ True False False]\n",
      " [False False False]]]\n",
      "board 3 by 3 [[[ 1.  0.  0.]\n",
      " [ 0.  0.  0.]\n",
      " [ 0.  0.  0.]]]\n",
      "player [2] win by row [False]\n",
      "board 3 by 3 [[[ 1.  0.  0.]\n",
      " [ 0.  0.  0.]\n",
      " [ 0.  0.  0.]]]\n",
      "player [2] win by columns [False]\n",
      "board 3 by 3 [[[ 1.  0.  0.]\n",
      " [ 0.  0.  0.]\n",
      " [ 0.  0.  0.]]]\n",
      "player [2] win by diagonal [False]\n",
      "diag board slices [[[ 1.  0.  0.]\n",
      " [ 0.  0.  0.]]]\n",
      "diag board player [2] slices [[[False False False]\n",
      " [False False False]]]\n",
      "other_moves [[1 2 3 4 5 6 7 8]]\n",
      "next_next_board [[ 1.  2.  0.  0.  0.  0.  0.  0.  0.]]\n",
      "board [[ 1.  2.  0.  0.  0.  0.  0.  0.  0.]]\n",
      "board 3 by 3 [[[ 1.  2.  0.]\n",
      " [ 0.  0.  0.]\n",
      " [ 0.  0.  0.]]]\n",
      "player [1] win by row [False]\n",
      "board 3 by 3 [[[ 1.  2.  0.]\n",
      " [ 0.  0.  0.]\n",
      " [ 0.  0.  0.]]]\n",
      "player [1] win by columns [False]\n",
      "board 3 by 3 [[[ 1.  2.  0.]\n",
      " [ 0.  0.  0.]\n",
      " [ 0.  0.  0.]]]\n",
      "player [1] win by diagonal [False]\n",
      "diag board slices [[[ 1.  0.  0.]\n",
      " [ 0.  0.  0.]]]\n",
      "diag board player [1] slices [[[ True False False]\n",
      " [False False False]]]\n",
      "board 3 by 3 [[[ 1.  2.  0.]\n",
      " [ 0.  0.  0.]\n",
      " [ 0.  0.  0.]]]\n",
      "player [2] win by row [False]\n",
      "board 3 by 3 [[[ 1.  2.  0.]\n",
      " [ 0.  0.  0.]\n",
      " [ 0.  0.  0.]]]\n",
      "player [2] win by columns [False]\n",
      "board 3 by 3 [[[ 1.  2.  0.]\n",
      " [ 0.  0.  0.]\n",
      " [ 0.  0.  0.]]]\n",
      "player [2] win by diagonal [False]\n",
      "diag board slices [[[ 1.  0.  0.]\n",
      " [ 0.  0.  0.]]]\n",
      "diag board player [2] slices [[[False False False]\n",
      " [False False False]]]\n"
     ]
    },
    {
     "ename": "TypeError",
     "evalue": "'list' object is not callable",
     "output_type": "error",
     "traceback": [
      "\u001b[1;31m---------------------------------------------------------------------------\u001b[0m",
      "\u001b[1;31mTypeError\u001b[0m                                 Traceback (most recent call last)",
      "\u001b[1;32m<ipython-input-98-e98b97681613>\u001b[0m in \u001b[0;36m<module>\u001b[1;34m()\u001b[0m\n\u001b[0;32m      1\u001b[0m \u001b[0mDEBUG\u001b[0m\u001b[1;33m=\u001b[0m\u001b[1;36m21\u001b[0m\u001b[1;33m\u001b[0m\u001b[0m\n\u001b[1;32m----> 2\u001b[1;33m \u001b[0mstate_list_player_1\u001b[0m\u001b[1;33m(\u001b[0m\u001b[1;33m)\u001b[0m\u001b[1;33m\u001b[0m\u001b[0m\n\u001b[0m",
      "\u001b[1;32m<ipython-input-97-7f555cd2ce5a>\u001b[0m in \u001b[0;36mstate_list_player_1\u001b[1;34m()\u001b[0m\n\u001b[0;32m     33\u001b[0m                     \u001b[1;32mcontinue\u001b[0m\u001b[1;33m\u001b[0m\u001b[0m\n\u001b[0;32m     34\u001b[0m \u001b[1;33m\u001b[0m\u001b[0m\n\u001b[1;32m---> 35\u001b[1;33m                 \u001b[0mboards_remaining\u001b[0m\u001b[1;33m(\u001b[0m\u001b[0mnext_next_board\u001b[0m\u001b[1;33m)\u001b[0m\u001b[1;33m\u001b[0m\u001b[0m\n\u001b[0m\u001b[0;32m     36\u001b[0m         \u001b[0mdebug\u001b[0m\u001b[1;33m(\u001b[0m\u001b[1;36m20\u001b[0m\u001b[1;33m,\u001b[0m \u001b[1;34m'boards_remaining [{}]'\u001b[0m\u001b[1;33m.\u001b[0m\u001b[0mformat\u001b[0m\u001b[1;33m(\u001b[0m\u001b[0mboards_remaining\u001b[0m\u001b[1;33m)\u001b[0m\u001b[1;33m)\u001b[0m\u001b[1;33m\u001b[0m\u001b[0m\n\u001b[0;32m     37\u001b[0m \u001b[1;33m\u001b[0m\u001b[0m\n",
      "\u001b[1;31mTypeError\u001b[0m: 'list' object is not callable"
     ]
    }
   ],
   "source": [
    "DEBUG=21\n",
    "state_list_player_1()"
   ]
  },
  {
   "cell_type": "code",
   "execution_count": null,
   "metadata": {
    "collapsed": true
   },
   "outputs": [],
   "source": []
  },
  {
   "cell_type": "code",
   "execution_count": null,
   "metadata": {
    "collapsed": true
   },
   "outputs": [],
   "source": []
  },
  {
   "cell_type": "code",
   "execution_count": null,
   "metadata": {
    "collapsed": true
   },
   "outputs": [],
   "source": []
  },
  {
   "cell_type": "code",
   "execution_count": 85,
   "metadata": {
    "collapsed": true
   },
   "outputs": [],
   "source": [
    "player_1_winning_boards = np.array([\n",
    "        [1, 1, 1, 0, 0, 0, 0, 0, 0],\n",
    "        [0, 0, 0, 1, 1, 1, 0, 0, 0],\n",
    "        [0, 0, 0, 0, 0, 0, 1, 1, 1],\n",
    "        [1, 0, 0, 1, 0, 0, 1, 0, 0],\n",
    "        [0, 1, 0, 0, 1, 0, 0, 1, 0],\n",
    "        [0, 0, 1, 0, 0, 1, 0, 0, 1],\n",
    "        [1, 0, 0, 0, 1, 0, 0, 0, 1],\n",
    "        [0, 0, 1, 0, 1, 0, 1, 0, 0]\n",
    "    ])\n",
    "player_2_winning_boards = np.copy(player_1_winning_boards)\n",
    "player_2_winning_boards[player_2_winning_boards == 1] = 2"
   ]
  },
  {
   "cell_type": "code",
   "execution_count": 22,
   "metadata": {
    "collapsed": false
   },
   "outputs": [
    {
     "name": "stdout",
     "output_type": "stream",
     "text": [
      "1\n",
      "1\n",
      "1\n",
      "1\n",
      "1\n",
      "1\n",
      "0\n",
      "0\n",
      "2\n",
      "2\n",
      "2\n",
      "2\n",
      "2\n",
      "2\n",
      "0\n",
      "0\n",
      "0\n",
      "False\n",
      "True\n",
      "[3 4 5 6 7 8]\n",
      "[0 1 2 6 7 8]\n",
      "[0 1 2 3 4 5]\n",
      "[1 2 4 5 7 8]\n",
      "[0 2 3 5 6 8]\n",
      "[0 1 3 4 6 7]\n",
      "[1 2 3 5 6 7]\n",
      "[0 1 3 5 7 8]\n",
      "True\n",
      "True\n",
      "(1, 3)\n",
      "(2, 6)\n",
      "(1, 0)\n",
      "(2, 2)\n",
      "(1, 1)\n",
      "(2, 1)\n",
      "(1, 1)\n",
      "(2, 5)\n",
      "(1, 3)\n",
      "(2, 8)\n",
      "(1, 7)\n",
      "(2, 4)\n",
      "(1, 1)\n",
      "(2, 6)\n",
      "(1, 5)\n",
      "(2, 8)\n"
     ]
    }
   ],
   "source": [
    "for b in player_1_winning_boards:\n",
    "    print(win_tictactoe(b))\n",
    "for b in player_2_winning_boards:\n",
    "    print(win_tictactoe(b))\n",
    "print(win_tictactoe(np.zeros(9)))\n",
    "print(tie_tictactoe(np.zeros(9)))\n",
    "print(tie_tictactoe(np.ones(9)))\n",
    "for b in player_1_winning_boards:\n",
    "    print(valid_moves(b))\n",
    "    \n",
    "print(not tie_tictactoe(np.zeros(9)) == (len(valid_moves(np.zeros(9))) > 0))\n",
    "print(tie_tictactoe(np.ones(9)) == (len(valid_moves(np.ones(9))) == 0))\n",
    "\n",
    "player1 = RandomPlayer(1)\n",
    "player2 = RandomPlayer(2)\n",
    "for b in player_1_winning_boards:\n",
    "    print(player1.action(b))\n",
    "    print(player2.action(b))"
   ]
  },
  {
   "cell_type": "code",
   "execution_count": 23,
   "metadata": {
    "collapsed": false
   },
   "outputs": [
    {
     "name": "stdout",
     "output_type": "stream",
     "text": [
      "(1, 1)\n",
      "[[ 0.  1.  0.]\n",
      " [ 0.  0.  0.]\n",
      " [ 0.  0.  0.]]\n",
      "playing\n",
      "(1, 1)->(2, 4)\n",
      "[[ 0.  1.  0.]\n",
      " [ 0.  2.  0.]\n",
      " [ 0.  0.  0.]]\n",
      "playing\n",
      "(1, 1)->(2, 4)->(1, 8)\n",
      "[[ 0.  1.  0.]\n",
      " [ 0.  2.  0.]\n",
      " [ 0.  0.  1.]]\n",
      "playing\n",
      "(1, 1)->(2, 4)->(1, 8)->(2, 5)\n",
      "[[ 0.  1.  0.]\n",
      " [ 0.  2.  2.]\n",
      " [ 0.  0.  1.]]\n",
      "playing\n",
      "(1, 1)->(2, 4)->(1, 8)->(2, 5)->(1, 2)\n",
      "[[ 0.  1.  1.]\n",
      " [ 0.  2.  2.]\n",
      " [ 0.  0.  1.]]\n",
      "playing\n",
      "(1, 1)->(2, 4)->(1, 8)->(2, 5)->(1, 2)->(2, 6)\n",
      "[[ 0.  1.  1.]\n",
      " [ 0.  2.  2.]\n",
      " [ 2.  0.  1.]]\n",
      "playing\n",
      "(1, 1)->(2, 4)->(1, 8)->(2, 5)->(1, 2)->(2, 6)->(1, 7)\n",
      "[[ 0.  1.  1.]\n",
      " [ 0.  2.  2.]\n",
      " [ 2.  1.  1.]]\n",
      "playing\n",
      "(1, 1)->(2, 4)->(1, 8)->(2, 5)->(1, 2)->(2, 6)->(1, 7)->(2, 3)\n",
      "[[ 0.  1.  1.]\n",
      " [ 2.  2.  2.]\n",
      " [ 2.  1.  1.]]\n",
      "winner_player_2\n"
     ]
    },
    {
     "data": {
      "text/plain": [
       "(1, 1)->(2, 4)->(1, 8)->(2, 5)->(1, 2)->(2, 6)->(1, 7)->(2, 3)\n",
       "[[ 0.  1.  1.]\n",
       " [ 2.  2.  2.]\n",
       " [ 2.  1.  1.]]\n",
       "winner_player_2"
      ]
     },
     "execution_count": 23,
     "metadata": {},
     "output_type": "execute_result"
    }
   ],
   "source": [
    "DEBUG=2\n",
    "game = Tictactoe(RandomPlayer(1), RandomPlayer(2))\n",
    "game.play()\n",
    "game"
   ]
  },
  {
   "cell_type": "code",
   "execution_count": 62,
   "metadata": {
    "collapsed": false
   },
   "outputs": [
    {
     "name": "stdout",
     "output_type": "stream",
     "text": [
      "(1, 8)\n",
      "[[ 0.  0.  0.]\n",
      " [ 0.  0.  0.]\n",
      " [ 0.  0.  1.]]\n",
      "playing\n",
      "(1, 8)->(2, 0)\n",
      "[[ 2.  0.  0.]\n",
      " [ 0.  0.  0.]\n",
      " [ 0.  0.  1.]]\n",
      "playing\n",
      "(1, 8)->(2, 0)->(1, 4)\n",
      "[[ 2.  0.  0.]\n",
      " [ 0.  1.  0.]\n",
      " [ 0.  0.  1.]]\n",
      "playing\n",
      "(1, 8)->(2, 0)->(1, 4)->(2, 6)\n",
      "[[ 2.  0.  0.]\n",
      " [ 0.  1.  0.]\n",
      " [ 2.  0.  1.]]\n",
      "playing\n",
      "(1, 8)->(2, 0)->(1, 4)->(2, 6)->(1, 3)\n",
      "[[ 2.  0.  0.]\n",
      " [ 1.  1.  0.]\n",
      " [ 2.  0.  1.]]\n",
      "playing\n",
      "(1, 8)->(2, 0)->(1, 4)->(2, 6)->(1, 3)->(2, 5)\n",
      "[[ 2.  0.  0.]\n",
      " [ 1.  1.  2.]\n",
      " [ 2.  0.  1.]]\n",
      "playing\n",
      "(1, 8)->(2, 0)->(1, 4)->(2, 6)->(1, 3)->(2, 5)->(1, 2)\n",
      "[[ 2.  0.  1.]\n",
      " [ 1.  1.  2.]\n",
      " [ 2.  0.  1.]]\n",
      "playing\n",
      "(1, 8)->(2, 0)->(1, 4)->(2, 6)->(1, 3)->(2, 5)->(1, 2)->(2, 1)\n",
      "[[ 2.  2.  1.]\n",
      " [ 1.  1.  2.]\n",
      " [ 2.  0.  1.]]\n",
      "playing\n",
      "(1, 8)->(2, 0)->(1, 4)->(2, 6)->(1, 3)->(2, 5)->(1, 2)->(2, 1)->(1, 7)\n",
      "[[ 2.  2.  1.]\n",
      " [ 1.  1.  2.]\n",
      " [ 2.  1.  1.]]\n",
      "tie\n"
     ]
    },
    {
     "data": {
      "text/plain": [
       "(1, 8)->(2, 0)->(1, 4)->(2, 6)->(1, 3)->(2, 5)->(1, 2)->(2, 1)->(1, 7)\n",
       "[[ 2.  2.  1.]\n",
       " [ 1.  1.  2.]\n",
       " [ 2.  1.  1.]]\n",
       "tie"
      ]
     },
     "execution_count": 62,
     "metadata": {},
     "output_type": "execute_result"
    }
   ],
   "source": [
    "DEBUG=2\n",
    "game = Tictactoe(OneStepLookaheadPlayer(1), OneStepLookaheadPlayer(2))\n",
    "game.play()\n",
    "game"
   ]
  },
  {
   "cell_type": "code",
   "execution_count": 63,
   "metadata": {
    "collapsed": true
   },
   "outputs": [],
   "source": [
    "random_games = list()\n",
    "onestep_games = list()\n",
    "DEBUG=1\n",
    "for i in range(1000):\n",
    "    random_game = Tictactoe(RandomPlayer(1), RandomPlayer(2))\n",
    "    onestepvrandom_game = Tictactoe(OneStepLookaheadPlayer(1), RandomPlayer(2))\n",
    "    random_game.play()\n",
    "    onestepvrandom_game.play()\n",
    "    random_games.append(random_game)\n",
    "    onestep_games.append(onestepvrandom_game)\n"
   ]
  },
  {
   "cell_type": "code",
   "execution_count": 82,
   "metadata": {
    "collapsed": false
   },
   "outputs": [],
   "source": [
    "random_stats = game_stats(random_games)\n",
    "onestep_stats = game_stats(onestep_games)"
   ]
  },
  {
   "cell_type": "code",
   "execution_count": 83,
   "metadata": {
    "collapsed": false
   },
   "outputs": [
    {
     "data": {
      "text/plain": [
       "{1: {'losses': 289, 'ties': 114, 'wins': 597},\n",
       " 2: {'losses': 597, 'ties': 114, 'wins': 289}}"
      ]
     },
     "execution_count": 83,
     "metadata": {},
     "output_type": "execute_result"
    }
   ],
   "source": [
    "random_stats"
   ]
  },
  {
   "cell_type": "code",
   "execution_count": 84,
   "metadata": {
    "collapsed": false
   },
   "outputs": [
    {
     "data": {
      "text/plain": [
       "{1: {'losses': 15, 'ties': 94, 'wins': 891},\n",
       " 2: {'losses': 891, 'ties': 94, 'wins': 15}}"
      ]
     },
     "execution_count": 84,
     "metadata": {},
     "output_type": "execute_result"
    }
   ],
   "source": [
    "onestep_stats"
   ]
  },
  {
   "cell_type": "code",
   "execution_count": 67,
   "metadata": {
    "collapsed": true
   },
   "outputs": [],
   "source": [
    "cum_wins_random = np.cumsum([1 if g.result == 'winner_player_1' else 0 for g in random_games])\n",
    "cum_wins_onestep = np.cumsum([1 if g.result == 'winner_player_1' else 0 for g in onestep_games])"
   ]
  },
  {
   "cell_type": "code",
   "execution_count": 69,
   "metadata": {
    "collapsed": true
   },
   "outputs": [],
   "source": [
    "cum_ties_random = np.cumsum([1 if g.result == 'tie' else 0 for g in random_games])\n",
    "cum_ties_onestep = np.cumsum([1 if g.result == 'tie' else 0 for g in onestep_games])"
   ]
  },
  {
   "cell_type": "code",
   "execution_count": 72,
   "metadata": {
    "collapsed": true
   },
   "outputs": [],
   "source": [
    "cum_losses_random = np.cumsum([1 if g.result == 'winner_player_2' else 0 for g in random_games])\n",
    "cum_losses_onestep = np.cumsum([1 if g.result == 'winner_player_2' else 0 for g in onestep_games])"
   ]
  },
  {
   "cell_type": "code",
   "execution_count": 70,
   "metadata": {
    "collapsed": false
   },
   "outputs": [
    {
     "data": {
      "text/plain": [
       "[<matplotlib.lines.Line2D at 0x1bce503bbe0>]"
      ]
     },
     "execution_count": 70,
     "metadata": {},
     "output_type": "execute_result"
    },
    {
     "data": {
      "image/png": "[encoded data removed]",
      "text/plain": [
       "<matplotlib.figure.Figure at 0x1bce503bac8>"
      ]
     },
     "metadata": {},
     "output_type": "display_data"
    }
   ],
   "source": [
    "plt.plot(cum_wins_random, color='red')\n",
    "plt.plot(cum_wins_onestep, color='green')"
   ]
  },
  {
   "cell_type": "code",
   "execution_count": 71,
   "metadata": {
    "collapsed": false
   },
   "outputs": [
    {
     "data": {
      "text/plain": [
       "[<matplotlib.lines.Line2D at 0x1bce55b0be0>]"
      ]
     },
     "execution_count": 71,
     "metadata": {},
     "output_type": "execute_result"
    },
    {
     "data": {
      "image/png": "[encoded data removed]",
      "text/plain": [
       "<matplotlib.figure.Figure at 0x1bce55b0b00>"
      ]
     },
     "metadata": {},
     "output_type": "display_data"
    }
   ],
   "source": [
    "plt.plot(cum_ties_random, color='red')\n",
    "plt.plot(cum_ties_onestep, color='green')"
   ]
  },
  {
   "cell_type": "code",
   "execution_count": 73,
   "metadata": {
    "collapsed": false
   },
   "outputs": [
    {
     "data": {
      "text/plain": [
       "[<matplotlib.lines.Line2D at 0x1bce55d8278>]"
      ]
     },
     "execution_count": 73,
     "metadata": {},
     "output_type": "execute_result"
    },
    {
     "data": {
      "image/png": "[encoded data removed]",
      "text/plain": [
       "<matplotlib.figure.Figure at 0x1bce55d85f8>"
      ]
     },
     "metadata": {},
     "output_type": "display_data"
    }
   ],
   "source": [
    "plt.plot(cum_losses_random, color='red')\n",
    "plt.plot(cum_losses_onestep, color='green')"
   ]
  },
  {
   "cell_type": "code",
   "execution_count": 49,
   "metadata": {
    "collapsed": false
   },
   "outputs": [
    {
     "name": "stdout",
     "output_type": "stream",
     "text": [
      "board [[ 2.  1.  1.  2.  1.  1.  1.  2.  2.]]\n",
      "board 3 by 3 [[[ 2.  1.  1.]\n",
      " [ 2.  1.  1.]\n",
      " [ 1.  2.  2.]]]\n",
      "player [1] win by row [False]\n",
      "board 3 by 3 [[[ 2.  1.  1.]\n",
      " [ 2.  1.  1.]\n",
      " [ 1.  2.  2.]]]\n",
      "player [1] win by columns [False]\n",
      "board 3 by 3 [[[ 2.  1.  1.]\n",
      " [ 2.  1.  1.]\n",
      " [ 1.  2.  2.]]]\n",
      "player [1] win by diagonal [True]\n",
      "diag board slices [[[ 2.  1.  2.]\n",
      " [ 1.  1.  1.]]]\n",
      "diag board player [1] slices [[[False  True False]\n",
      " [ True  True  True]]]\n"
     ]
    },
    {
     "data": {
      "text/plain": [
       "1"
      ]
     },
     "execution_count": 49,
     "metadata": {},
     "output_type": "execute_result"
    }
   ],
   "source": [
    "DEBUG=11\n",
    "win_tictactoe(game.board)"
   ]
  },
  {
   "cell_type": "code",
   "execution_count": 35,
   "metadata": {
    "collapsed": false
   },
   "outputs": [
    {
     "data": {
      "text/plain": [
       "{'action_log': [(1, 1),\n",
       "  (2, 0),\n",
       "  (1, 3),\n",
       "  (2, 5),\n",
       "  (1, 2),\n",
       "  (2, 6),\n",
       "  (1, 8),\n",
       "  (2, 7),\n",
       "  (1, 4)],\n",
       " 'board': array([ 2.,  1.,  1.,  1.,  1.,  2.,  2.,  2.,  1.]),\n",
       " 'players': [<__main__.RandomPlayer at 0x1fd4231cf98>,\n",
       "  <__main__.RandomPlayer at 0x1fd4231c668>],\n",
       " 'result': 'tie'}"
      ]
     },
     "execution_count": 35,
     "metadata": {},
     "output_type": "execute_result"
    }
   ],
   "source": [
    "game.__dict__"
   ]
  },
  {
   "cell_type": "code",
   "execution_count": null,
   "metadata": {
    "collapsed": true
   },
   "outputs": [],
   "source": []
  }
 ],
 "metadata": {
  "anaconda-cloud": {},
  "kernelspec": {
   "display_name": "Python [Root]",
   "language": "python",
   "name": "Python [Root]"
  },
  "language_info": {
   "codemirror_mode": {
    "name": "ipython",
    "version": 3
   },
   "file_extension": ".py",
   "mimetype": "text/x-python",
   "name": "python",
   "nbconvert_exporter": "python",
   "pygments_lexer": "ipython3",
   "version": "3.5.2"
  }
 },
 "nbformat": 4,
 "nbformat_minor": 0
}
