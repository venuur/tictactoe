{
 "cells": [
  {
   "cell_type": "code",
   "execution_count": 89,
   "metadata": {
    "collapsed": true
   },
   "outputs": [],
   "source": [
    "from itertools import cycle\n",
    "\n",
    "import numpy as np\n",
    "import numpy.random as rn\n",
    "\n",
    "\n",
    "DEBUG = 2\n",
    "def debug(level, *args):\n",
    "    if DEBUG > level:\n",
    "        print(*args)"
   ]
  },
  {
   "cell_type": "code",
   "execution_count": 90,
   "metadata": {
    "collapsed": true
   },
   "outputs": [],
   "source": [
    "def win_tictactoe(board):\n",
    "    '''Return 0 for no win, otherwise i if player i wins for board vector row major ordering.'''\n",
    "    debug(10, 'board [{}]'.format(board))\n",
    "    for player in [1, 2]:\n",
    "        #Player win by rows.\n",
    "        player_win = np.any(np.all(\n",
    "            board.reshape(3, 3) == player,\n",
    "            axis=1))\n",
    "        debug(10, 'board 3 by 3 [{}]'.format(board.reshape(3, 3)))\n",
    "        debug(10, 'player [{}] win by row [{}]'.format(player, player_win))\n",
    "        \n",
    "        #Player win by columns.\n",
    "        player_win = player_win or np.any(np.all(\n",
    "            board.reshape(3, 3) == player,\n",
    "            axis=0))\n",
    "        debug(10, 'board 3 by 3 [{}]'.format(board.reshape(3, 3)))\n",
    "        debug(10, 'player [{}] win by columns [{}]'.format(player, player_win))\n",
    "        \n",
    "        #Player win by diagonals.\n",
    "        player_win = player_win or np.any(np.all(np.vstack([\n",
    "            board.reshape(3, 3)[[0,1,2],[0,1,2]] == player,\n",
    "            board.reshape(3, 3)[[0,1,2],[2,1,0]] == player]),\n",
    "            axis=0))\n",
    "        \n",
    "        debug(10, 'board 3 by 3 [{}]'.format(board.reshape(3, 3)))\n",
    "        debug(10, 'player [{}] win by diagonal [{}]'.format(player, player_win))\n",
    "        \n",
    "        debug(10, 'diag board slices [{}]'.format(np.vstack([\n",
    "            board.reshape(3, 3)[[0,1,2],[0,1,2]] == player,\n",
    "            board.reshape(3, 3)[[0,1,2],[2,1,0]] == player])))\n",
    "        debug(10, 'diag board player [{}] slices [{}]'.format(player, np.vstack([\n",
    "            board.reshape(3, 3)[[0,1,2],[0,1,2]] == player,\n",
    "            board.reshape(3, 3)[[0,1,2],[2,1,0]] == player])))\n",
    "        \n",
    "        \n",
    "        if player_win:\n",
    "            return player\n",
    "        \n",
    "    return 0\n",
    "\n",
    "def tie_tictactoe(board):\n",
    "    '''Return true if board is a tie.'''\n",
    "    \n",
    "    return np.all(board != 0)\n",
    "\n",
    "def valid_moves(board):\n",
    "    return np.where(board == 0)[0]\n",
    "\n",
    "\n",
    "class RandomPlayer:\n",
    "    def __init__(self, player):\n",
    "        self.player = player\n",
    "        \n",
    "    def action(self, board):\n",
    "        action = rn.choice(valid_moves(board))\n",
    "        return (self.player, action)\n",
    "    \n",
    "class Tictactoe:\n",
    "    def __init__(self, player1, player2):\n",
    "        self.board = np.zeros(9)\n",
    "        self.players = [player1, player2]\n",
    "        self.action_log = list()\n",
    "        self.result = 'playing'\n",
    "        \n",
    "    def play(self):\n",
    "        for player in cycle(self.players):\n",
    "            action = player.action(self.board)\n",
    "            self.update(*action)\n",
    "            self.action_log.append(action)\n",
    "            \n",
    "            if win_tictactoe(self.board) != 0:\n",
    "                self.result = 'winner_player_{}'.format(player.player)\n",
    "            elif tie_tictactoe(self.board):\n",
    "                self.result = 'tie'\n",
    "            \n",
    "            debug(1, self)\n",
    "            \n",
    "            if self.result != 'playing':\n",
    "                break\n",
    "        \n",
    "    def update(self, player, location):\n",
    "        self.board[location] = player\n",
    "        \n",
    "        \n",
    "    def __repr__(self):\n",
    "        return '\\n'.join([\n",
    "                '->'.join(map(str, self.action_log)),\n",
    "                str(self.board.reshape(3,3)),\n",
    "                self.result\n",
    "            ])"
   ]
  },
  {
   "cell_type": "code",
   "execution_count": 91,
   "metadata": {
    "collapsed": true
   },
   "outputs": [],
   "source": [
    "player_1_winning_boards = np.array([\n",
    "        [1, 1, 1, 0, 0, 0, 0, 0, 0],\n",
    "        [0, 0, 0, 1, 1, 1, 0, 0, 0],\n",
    "        [0, 0, 0, 0, 0, 0, 1, 1, 1],\n",
    "        [1, 0, 0, 1, 0, 0, 1, 0, 0],\n",
    "        [0, 1, 0, 0, 1, 0, 0, 1, 0],\n",
    "        [0, 0, 1, 0, 0, 1, 0, 0, 1],\n",
    "        [1, 0, 0, 0, 1, 0, 0, 0, 1],\n",
    "        [0, 0, 1, 0, 1, 0, 1, 0, 0]\n",
    "    ])\n",
    "player_2_winning_boards = np.copy(player_1_winning_boards)\n",
    "player_2_winning_boards[player_2_winning_boards == 1] = 2"
   ]
  },
  {
   "cell_type": "code",
   "execution_count": 92,
   "metadata": {
    "collapsed": false
   },
   "outputs": [
    {
     "name": "stdout",
     "output_type": "stream",
     "text": [
      "1\n",
      "1\n",
      "1\n",
      "1\n",
      "1\n",
      "1\n",
      "1\n",
      "1\n",
      "2\n",
      "2\n",
      "2\n",
      "2\n",
      "2\n",
      "2\n",
      "2\n",
      "2\n",
      "0\n",
      "False\n",
      "True\n",
      "[3 4 5 6 7 8]\n",
      "[0 1 2 6 7 8]\n",
      "[0 1 2 3 4 5]\n",
      "[1 2 4 5 7 8]\n",
      "[0 2 3 5 6 8]\n",
      "[0 1 3 4 6 7]\n",
      "[1 2 3 5 6 7]\n",
      "[0 1 3 5 7 8]\n",
      "True\n",
      "True\n",
      "(1, 5)\n",
      "(2, 6)\n",
      "(1, 2)\n",
      "(2, 6)\n",
      "(1, 0)\n",
      "(2, 0)\n",
      "(1, 1)\n",
      "(2, 5)\n",
      "(1, 2)\n",
      "(2, 3)\n",
      "(1, 0)\n",
      "(2, 4)\n",
      "(1, 5)\n",
      "(2, 6)\n",
      "(1, 0)\n",
      "(2, 0)\n"
     ]
    }
   ],
   "source": [
    "for b in player_1_winning_boards:\n",
    "    print(win_tictactoe(b))\n",
    "for b in player_2_winning_boards:\n",
    "    print(win_tictactoe(b))\n",
    "print(win_tictactoe(np.zeros(9)))\n",
    "print(tie_tictactoe(np.zeros(9)))\n",
    "print(tie_tictactoe(np.ones(9)))\n",
    "for b in player_1_winning_boards:\n",
    "    print(valid_moves(b))\n",
    "    \n",
    "print(not tie_tictactoe(np.zeros(9)) == (len(valid_moves(np.zeros(9))) > 0))\n",
    "print(tie_tictactoe(np.ones(9)) == (len(valid_moves(np.ones(9))) == 0))\n",
    "\n",
    "player1 = RandomPlayer(1)\n",
    "player2 = RandomPlayer(2)\n",
    "for b in player_1_winning_boards:\n",
    "    print(player1.action(b))\n",
    "    print(player2.action(b))"
   ]
  },
  {
   "cell_type": "code",
   "execution_count": 93,
   "metadata": {
    "collapsed": false
   },
   "outputs": [
    {
     "name": "stdout",
     "output_type": "stream",
     "text": [
      "(1, 6)\n",
      "[[ 0.  0.  0.]\n",
      " [ 0.  0.  0.]\n",
      " [ 1.  0.  0.]]\n",
      "playing\n",
      "(1, 6)->(2, 7)\n",
      "[[ 0.  0.  0.]\n",
      " [ 0.  0.  0.]\n",
      " [ 1.  2.  0.]]\n",
      "playing\n",
      "(1, 6)->(2, 7)->(1, 2)\n",
      "[[ 0.  0.  1.]\n",
      " [ 0.  0.  0.]\n",
      " [ 1.  2.  0.]]\n",
      "playing\n",
      "(1, 6)->(2, 7)->(1, 2)->(2, 8)\n",
      "[[ 0.  0.  1.]\n",
      " [ 0.  0.  0.]\n",
      " [ 1.  2.  2.]]\n",
      "playing\n",
      "(1, 6)->(2, 7)->(1, 2)->(2, 8)->(1, 0)\n",
      "[[ 1.  0.  1.]\n",
      " [ 0.  0.  0.]\n",
      " [ 1.  2.  2.]]\n",
      "winner_player_1\n"
     ]
    },
    {
     "data": {
      "text/plain": [
       "(1, 6)->(2, 7)->(1, 2)->(2, 8)->(1, 0)\n",
       "[[ 1.  0.  1.]\n",
       " [ 0.  0.  0.]\n",
       " [ 1.  2.  2.]]\n",
       "winner_player_1"
      ]
     },
     "execution_count": 93,
     "metadata": {},
     "output_type": "execute_result"
    }
   ],
   "source": [
    "game = Tictactoe(RandomPlayer(1), RandomPlayer(2))\n",
    "game.play()\n",
    "game"
   ]
  },
  {
   "cell_type": "code",
   "execution_count": 94,
   "metadata": {
    "collapsed": false
   },
   "outputs": [
    {
     "name": "stdout",
     "output_type": "stream",
     "text": [
      "board [[ 1.  0.  1.  0.  0.  0.  1.  2.  2.]]\n",
      "board 3 by 3 [[[ 1.  0.  1.]\n",
      " [ 0.  0.  0.]\n",
      " [ 1.  2.  2.]]]\n",
      "player [1] win by row [False]\n",
      "board 3 by 3 [[[ 1.  0.  1.]\n",
      " [ 0.  0.  0.]\n",
      " [ 1.  2.  2.]]]\n",
      "player [1] win by columns [False]\n",
      "board 3 by 3 [[[ 1.  0.  1.]\n",
      " [ 0.  0.  0.]\n",
      " [ 1.  2.  2.]]]\n",
      "player [1] win by diagonal [True]\n",
      "diag board slices [[[ True False False]\n",
      " [ True False  True]]]\n",
      "diag board player [1] slices [[[ True False False]\n",
      " [ True False  True]]]\n"
     ]
    },
    {
     "data": {
      "text/plain": [
       "1"
      ]
     },
     "execution_count": 94,
     "metadata": {},
     "output_type": "execute_result"
    }
   ],
   "source": [
    "DEBUG=11\n",
    "win_tictactoe(game.board)"
   ]
  },
  {
   "cell_type": "code",
   "execution_count": 35,
   "metadata": {
    "collapsed": false
   },
   "outputs": [
    {
     "data": {
      "text/plain": [
       "{'action_log': [(1, 1),\n",
       "  (2, 0),\n",
       "  (1, 3),\n",
       "  (2, 5),\n",
       "  (1, 2),\n",
       "  (2, 6),\n",
       "  (1, 8),\n",
       "  (2, 7),\n",
       "  (1, 4)],\n",
       " 'board': array([ 2.,  1.,  1.,  1.,  1.,  2.,  2.,  2.,  1.]),\n",
       " 'players': [<__main__.RandomPlayer at 0x1fd4231cf98>,\n",
       "  <__main__.RandomPlayer at 0x1fd4231c668>],\n",
       " 'result': 'tie'}"
      ]
     },
     "execution_count": 35,
     "metadata": {},
     "output_type": "execute_result"
    }
   ],
   "source": [
    "game.__dict__"
   ]
  },
  {
   "cell_type": "code",
   "execution_count": null,
   "metadata": {
    "collapsed": true
   },
   "outputs": [],
   "source": []
  }
 ],
 "metadata": {
  "kernelspec": {
   "display_name": "Python [Root]",
   "language": "python",
   "name": "Python [Root]"
  },
  "language_info": {
   "codemirror_mode": {
    "name": "ipython",
    "version": 3
   },
   "file_extension": ".py",
   "mimetype": "text/x-python",
   "name": "python",
   "nbconvert_exporter": "python",
   "pygments_lexer": "ipython3",
   "version": "3.5.2"
  }
 },
 "nbformat": 4,
 "nbformat_minor": 0
}
